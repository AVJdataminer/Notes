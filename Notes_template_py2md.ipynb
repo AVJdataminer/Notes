{
 "cells": [
  {
   "cell_type": "code",
   "execution_count": 3,
   "metadata": {},
   "outputs": [
    {
     "output_type": "stream",
     "name": "stdout",
     "text": "2020-05-20\n"
    }
   ],
   "source": [
    "import datetime\n",
    "today = datetime.date.today()\n",
    "print(today)"
   ]
  },
  {
   "cell_type": "code",
   "execution_count": 8,
   "metadata": {},
   "outputs": [
    {
     "output_type": "stream",
     "name": "stdout",
     "text": "May_20_2020\n"
    }
   ],
   "source": [
    "print(today.strftime(\"%b_%d_%Y\"))"
   ]
  },
  {
   "cell_type": "code",
   "execution_count": 4,
   "metadata": {},
   "outputs": [
    {
     "output_type": "stream",
     "name": "stdout",
     "text": "Year: 2020\nMonth: 5\nDay : 20\n"
    }
   ],
   "source": [
    "print('Year:', today.year)\n",
    "print('Month:', today.month)\n",
    "print('Day :', today.day)"
   ]
  },
  {
   "cell_type": "code",
   "execution_count": 10,
   "metadata": {},
   "outputs": [
    {
     "output_type": "stream",
     "name": "stdout",
     "text": "Collecting MdUtils\n  Downloading https://files.pythonhosted.org/packages/37/a2/32123ef96fc42b22d04322182285cb76474ff0f048b8611a8a5fd49e37e3/mdutils-1.2.1.tar.gz\nBuilding wheels for collected packages: MdUtils\n  Building wheel for MdUtils (setup.py) ... \u001b[?25ldone\n\u001b[?25h  Created wheel for MdUtils: filename=mdutils-1.2.1-cp37-none-any.whl size=19325 sha256=61cab56366b21d96a3166e2058828a6deecfd446432de99789ba788f9092427e\n  Stored in directory: /Users/aidenjohnson/Library/Caches/pip/wheels/a3/46/22/332466408f2d6cc275d0381b3d8f5f65d8c1b63ac6b2e818d2\nSuccessfully built MdUtils\nInstalling collected packages: MdUtils\nSuccessfully installed MdUtils-1.2.1\n"
    }
   ],
   "source": [
    "! pip install MdUtils"
   ]
  },
  {
   "cell_type": "code",
   "execution_count": null,
   "metadata": {},
   "outputs": [],
   "source": [
    "def start_notes():\n",
    "    "
   ]
  },
  {
   "cell_type": "code",
   "execution_count": 25,
   "metadata": {},
   "outputs": [
    {
     "output_type": "execute_result",
     "data": {
      "text/plain": "<mdutils.fileutils.fileutils.MarkDownFile at 0x10623a5d0>"
     },
     "metadata": {},
     "execution_count": 25
    }
   ],
   "source": [
    "from mdutils.mdutils import MdUtils\n",
    "import datetime\n",
    "today = datetime.date.today()\n",
    "mdFile = MdUtils(file_name='Notes_'+str(today.strftime(\"%b_%d_%Y\")), title='Notes '+str(today))\n",
    "mdFile.new_header(level=1, title='Overview')   \n",
    "mdFile.new_header(level=2, title='Training & Testing')\n",
    "mdFile.new_line('Something here ')\n",
    "mdFile.new_header(level=2, title='Modeling')\n",
    "mdFile.new_paragraph('some items')\n",
    "\n",
    "mdFile.create_md_file()\n",
    "\n"
   ]
  },
  {
   "cell_type": "code",
   "execution_count": null,
   "metadata": {},
   "outputs": [],
   "source": []
  }
 ],
 "metadata": {
  "kernelspec": {
   "display_name": "Python 3.7.4 64-bit ('base': conda)",
   "language": "python",
   "name": "python37464bitbaseconda5d89f3ca1e4a4300b4f7a2cae7d62d80"
  },
  "language_info": {
   "codemirror_mode": {
    "name": "ipython",
    "version": 3
   },
   "file_extension": ".py",
   "mimetype": "text/x-python",
   "name": "python",
   "nbconvert_exporter": "python",
   "pygments_lexer": "ipython3",
   "version": "3.7.4-final"
  }
 },
 "nbformat": 4,
 "nbformat_minor": 4
}