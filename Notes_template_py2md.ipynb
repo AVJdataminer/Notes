{
 "cells": [
  {
   "cell_type": "code",
   "execution_count": 1,
   "metadata": {},
   "outputs": [
    {
     "output_type": "stream",
     "name": "stdout",
     "text": "2020-05-20 15:51:22.482584+00:00\n"
    }
   ],
   "source": [
    "import datetime\n",
    "import pytz\n",
    "now=datetime.datetime.now()\n",
    "utc_now = pytz.utc.localize(datetime.datetime.utcnow())\n",
    "print(utc_now)"
   ]
  },
  {
   "cell_type": "code",
   "execution_count": 2,
   "metadata": {},
   "outputs": [
    {
     "output_type": "stream",
     "name": "stdout",
     "text": "2020-05-20 09:51:22.482584-06:00\ndate and time: 05/20/2020, 09:51:22\n"
    }
   ],
   "source": [
    "mst_now = utc_now.astimezone(pytz.timezone(\"America/Denver\"))\n",
    "print(mst_now)\n",
    "date_time = mst_now.strftime(\"%m/%d/%Y, %H:%M:%S\")\n",
    "print(\"date and time:\",date_time)"
   ]
  },
  {
   "cell_type": "code",
   "execution_count": null,
   "metadata": {},
   "outputs": [],
   "source": [
    "from mdutils.mdutils import MdUtils\n",
    "\n",
    "mdFile = MdUtils(file_name='Model Report'+str(mst_now), title='Model Report '+str(date_time))\n",
    "\n",
    "mdFile.new_header(level=1, title='Overview')    # style is set 'atx' format by default.\n",
    "\n",
    "mdFile.new_header(level=2, title='Training & Testing')\n",
    "mdFile.new_line('Split date ' +str(split_date))\n",
    "\n",
    "mdFile.new_header(level=2, title='Modeling')\n",
    "mdFile.new_line('logistic regression ROC AUC=%.3f' % (lr_auc))\n",
    "mdFile.new_line('logistic regression with class weight = balanced ROC AUC=%.3f' % (lr_auc))\n",
    "mdFile.new_line('parameter opt for random forest ' +str(rfc_grid.best_score_))\n",
    "mdFile.new_paragraph(str(rfc_grid.best_params_))\n",
    "mdFile.new_paragraph('Time for parameter optimization '+str(elapsed_time))\n",
    "mdFile.new_line('Random Forest: ROC AUC=%.3f' % (lr_auc))\n",
    "mdFile.new_line('Random Forest feature importance ' + str(names))\n",
    "\n",
    "mdFile.create_md_file()\n",
    "\n"
   ]
  }
 ],
 "metadata": {
  "kernelspec": {
   "display_name": "Python 3.7.4 64-bit ('base': conda)",
   "language": "python",
   "name": "python37464bitbaseconda5d89f3ca1e4a4300b4f7a2cae7d62d80"
  },
  "language_info": {
   "codemirror_mode": {
    "name": "ipython",
    "version": 3
   },
   "file_extension": ".py",
   "mimetype": "text/x-python",
   "name": "python",
   "nbconvert_exporter": "python",
   "pygments_lexer": "ipython3",
   "version": "3.7.4-final"
  }
 },
 "nbformat": 4,
 "nbformat_minor": 4
}